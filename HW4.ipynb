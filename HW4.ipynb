{
  "cells": [
    {
      "cell_type": "markdown",
      "metadata": {
        "id": "view-in-github",
        "colab_type": "text"
      },
      "source": [
        "<a href=\"https://colab.research.google.com/github/yubinvip/Hung-yi-Lee-AI2024/blob/main/HW4.ipynb\" target=\"_parent\"><img src=\"https://colab.research.google.com/assets/colab-badge.svg\" alt=\"Open In Colab\"/></a>"
      ]
    },
    {
      "cell_type": "markdown",
      "metadata": {
        "id": "SimGWkpDLhd0"
      },
      "source": [
        "# HW4: Become an AI Hypnosis Master\n",
        "Objectives:\n",
        "- Understand how various prompts affect the performance of a Large Language Model.\n",
        "- Design a prompt that improves Gemini's accuracy in solving mathematical problems.\n",
        "\n",
        "If you have any questions, please contact the TAs via TA hours, NTU COOL, or email to ntu-gen-ai-2024-spring-ta@googlegroups.com"
      ]
    },
    {
      "cell_type": "markdown",
      "source": [
        "##  Preparing Section"
      ],
      "metadata": {
        "id": "vkw87gP85F3M"
      }
    },
    {
      "cell_type": "markdown",
      "metadata": {
        "id": "BhP-NEinCSDh"
      },
      "source": [
        "### Install all necessary packages.\n",
        "- This process will take about **30** seconds.\n"
      ]
    },
    {
      "cell_type": "code",
      "execution_count": null,
      "metadata": {
        "id": "uBulEtW3uMXe",
        "colab": {
          "base_uri": "https://localhost:8080/"
        },
        "outputId": "879f3b13-49ee-4e2e-b2c3-c7a2f2a8e6b2"
      },
      "outputs": [
        {
          "output_type": "stream",
          "name": "stdout",
          "text": [
            "Requirement already satisfied: tqdm in /usr/local/lib/python3.10/dist-packages (4.66.2)\n",
            "Requirement already satisfied: jinja2 in /usr/local/lib/python3.10/dist-packages (3.1.3)\n",
            "Requirement already satisfied: gradio==3.50.0 in /usr/local/lib/python3.10/dist-packages (3.50.0)\n",
            "Requirement already satisfied: aiofiles<24.0,>=22.0 in /usr/local/lib/python3.10/dist-packages (from gradio==3.50.0) (23.2.1)\n",
            "Requirement already satisfied: altair<6.0,>=4.2.0 in /usr/local/lib/python3.10/dist-packages (from gradio==3.50.0) (4.2.2)\n",
            "Requirement already satisfied: fastapi in /usr/local/lib/python3.10/dist-packages (from gradio==3.50.0) (0.110.0)\n",
            "Requirement already satisfied: ffmpy in /usr/local/lib/python3.10/dist-packages (from gradio==3.50.0) (0.3.2)\n",
            "Requirement already satisfied: gradio-client==0.6.1 in /usr/local/lib/python3.10/dist-packages (from gradio==3.50.0) (0.6.1)\n",
            "Requirement already satisfied: httpx in /usr/local/lib/python3.10/dist-packages (from gradio==3.50.0) (0.27.0)\n",
            "Requirement already satisfied: huggingface-hub>=0.14.0 in /usr/local/lib/python3.10/dist-packages (from gradio==3.50.0) (0.20.3)\n",
            "Requirement already satisfied: importlib-resources<7.0,>=1.3 in /usr/local/lib/python3.10/dist-packages (from gradio==3.50.0) (6.3.0)\n",
            "Requirement already satisfied: markupsafe~=2.0 in /usr/local/lib/python3.10/dist-packages (from gradio==3.50.0) (2.1.5)\n",
            "Requirement already satisfied: matplotlib~=3.0 in /usr/local/lib/python3.10/dist-packages (from gradio==3.50.0) (3.7.1)\n",
            "Requirement already satisfied: numpy~=1.0 in /usr/local/lib/python3.10/dist-packages (from gradio==3.50.0) (1.25.2)\n",
            "Requirement already satisfied: orjson~=3.0 in /usr/local/lib/python3.10/dist-packages (from gradio==3.50.0) (3.9.15)\n",
            "Requirement already satisfied: packaging in /usr/local/lib/python3.10/dist-packages (from gradio==3.50.0) (24.0)\n",
            "Requirement already satisfied: pandas<3.0,>=1.0 in /usr/local/lib/python3.10/dist-packages (from gradio==3.50.0) (1.5.3)\n",
            "Requirement already satisfied: pillow<11.0,>=8.0 in /usr/local/lib/python3.10/dist-packages (from gradio==3.50.0) (9.4.0)\n",
            "Requirement already satisfied: pydantic!=1.8,!=1.8.1,!=2.0.0,!=2.0.1,<3.0.0,>=1.7.4 in /usr/local/lib/python3.10/dist-packages (from gradio==3.50.0) (2.6.4)\n",
            "Requirement already satisfied: pydub in /usr/local/lib/python3.10/dist-packages (from gradio==3.50.0) (0.25.1)\n",
            "Requirement already satisfied: python-multipart in /usr/local/lib/python3.10/dist-packages (from gradio==3.50.0) (0.0.9)\n",
            "Requirement already satisfied: pyyaml<7.0,>=5.0 in /usr/local/lib/python3.10/dist-packages (from gradio==3.50.0) (6.0.1)\n",
            "Requirement already satisfied: requests~=2.0 in /usr/local/lib/python3.10/dist-packages (from gradio==3.50.0) (2.31.0)\n",
            "Requirement already satisfied: semantic-version~=2.0 in /usr/local/lib/python3.10/dist-packages (from gradio==3.50.0) (2.10.0)\n",
            "Requirement already satisfied: typing-extensions~=4.0 in /usr/local/lib/python3.10/dist-packages (from gradio==3.50.0) (4.10.0)\n",
            "Requirement already satisfied: uvicorn>=0.14.0 in /usr/local/lib/python3.10/dist-packages (from gradio==3.50.0) (0.29.0)\n",
            "Requirement already satisfied: websockets<12.0,>=10.0 in /usr/local/lib/python3.10/dist-packages (from gradio==3.50.0) (11.0.3)\n",
            "Requirement already satisfied: fsspec in /usr/local/lib/python3.10/dist-packages (from gradio-client==0.6.1->gradio==3.50.0) (2023.6.0)\n",
            "Requirement already satisfied: entrypoints in /usr/local/lib/python3.10/dist-packages (from altair<6.0,>=4.2.0->gradio==3.50.0) (0.4)\n",
            "Requirement already satisfied: jsonschema>=3.0 in /usr/local/lib/python3.10/dist-packages (from altair<6.0,>=4.2.0->gradio==3.50.0) (4.19.2)\n",
            "Requirement already satisfied: toolz in /usr/local/lib/python3.10/dist-packages (from altair<6.0,>=4.2.0->gradio==3.50.0) (0.12.1)\n",
            "Requirement already satisfied: filelock in /usr/local/lib/python3.10/dist-packages (from huggingface-hub>=0.14.0->gradio==3.50.0) (3.13.1)\n",
            "Requirement already satisfied: contourpy>=1.0.1 in /usr/local/lib/python3.10/dist-packages (from matplotlib~=3.0->gradio==3.50.0) (1.2.0)\n",
            "Requirement already satisfied: cycler>=0.10 in /usr/local/lib/python3.10/dist-packages (from matplotlib~=3.0->gradio==3.50.0) (0.12.1)\n",
            "Requirement already satisfied: fonttools>=4.22.0 in /usr/local/lib/python3.10/dist-packages (from matplotlib~=3.0->gradio==3.50.0) (4.49.0)\n",
            "Requirement already satisfied: kiwisolver>=1.0.1 in /usr/local/lib/python3.10/dist-packages (from matplotlib~=3.0->gradio==3.50.0) (1.4.5)\n",
            "Requirement already satisfied: pyparsing>=2.3.1 in /usr/local/lib/python3.10/dist-packages (from matplotlib~=3.0->gradio==3.50.0) (3.1.2)\n",
            "Requirement already satisfied: python-dateutil>=2.7 in /usr/local/lib/python3.10/dist-packages (from matplotlib~=3.0->gradio==3.50.0) (2.8.2)\n",
            "Requirement already satisfied: pytz>=2020.1 in /usr/local/lib/python3.10/dist-packages (from pandas<3.0,>=1.0->gradio==3.50.0) (2023.4)\n",
            "Requirement already satisfied: annotated-types>=0.4.0 in /usr/local/lib/python3.10/dist-packages (from pydantic!=1.8,!=1.8.1,!=2.0.0,!=2.0.1,<3.0.0,>=1.7.4->gradio==3.50.0) (0.6.0)\n",
            "Requirement already satisfied: pydantic-core==2.16.3 in /usr/local/lib/python3.10/dist-packages (from pydantic!=1.8,!=1.8.1,!=2.0.0,!=2.0.1,<3.0.0,>=1.7.4->gradio==3.50.0) (2.16.3)\n",
            "Requirement already satisfied: charset-normalizer<4,>=2 in /usr/local/lib/python3.10/dist-packages (from requests~=2.0->gradio==3.50.0) (3.3.2)\n",
            "Requirement already satisfied: idna<4,>=2.5 in /usr/local/lib/python3.10/dist-packages (from requests~=2.0->gradio==3.50.0) (3.6)\n",
            "Requirement already satisfied: urllib3<3,>=1.21.1 in /usr/local/lib/python3.10/dist-packages (from requests~=2.0->gradio==3.50.0) (2.0.7)\n",
            "Requirement already satisfied: certifi>=2017.4.17 in /usr/local/lib/python3.10/dist-packages (from requests~=2.0->gradio==3.50.0) (2024.2.2)\n",
            "Requirement already satisfied: click>=7.0 in /usr/local/lib/python3.10/dist-packages (from uvicorn>=0.14.0->gradio==3.50.0) (8.1.7)\n",
            "Requirement already satisfied: h11>=0.8 in /usr/local/lib/python3.10/dist-packages (from uvicorn>=0.14.0->gradio==3.50.0) (0.14.0)\n",
            "Requirement already satisfied: starlette<0.37.0,>=0.36.3 in /usr/local/lib/python3.10/dist-packages (from fastapi->gradio==3.50.0) (0.36.3)\n",
            "Requirement already satisfied: anyio in /usr/local/lib/python3.10/dist-packages (from httpx->gradio==3.50.0) (3.7.1)\n",
            "Requirement already satisfied: httpcore==1.* in /usr/local/lib/python3.10/dist-packages (from httpx->gradio==3.50.0) (1.0.4)\n",
            "Requirement already satisfied: sniffio in /usr/local/lib/python3.10/dist-packages (from httpx->gradio==3.50.0) (1.3.1)\n",
            "Requirement already satisfied: attrs>=22.2.0 in /usr/local/lib/python3.10/dist-packages (from jsonschema>=3.0->altair<6.0,>=4.2.0->gradio==3.50.0) (23.2.0)\n",
            "Requirement already satisfied: jsonschema-specifications>=2023.03.6 in /usr/local/lib/python3.10/dist-packages (from jsonschema>=3.0->altair<6.0,>=4.2.0->gradio==3.50.0) (2023.12.1)\n",
            "Requirement already satisfied: referencing>=0.28.4 in /usr/local/lib/python3.10/dist-packages (from jsonschema>=3.0->altair<6.0,>=4.2.0->gradio==3.50.0) (0.33.0)\n",
            "Requirement already satisfied: rpds-py>=0.7.1 in /usr/local/lib/python3.10/dist-packages (from jsonschema>=3.0->altair<6.0,>=4.2.0->gradio==3.50.0) (0.18.0)\n",
            "Requirement already satisfied: six>=1.5 in /usr/local/lib/python3.10/dist-packages (from python-dateutil>=2.7->matplotlib~=3.0->gradio==3.50.0) (1.16.0)\n",
            "Requirement already satisfied: exceptiongroup in /usr/local/lib/python3.10/dist-packages (from anyio->httpx->gradio==3.50.0) (1.2.0)\n"
          ]
        }
      ],
      "source": [
        "!pip install tqdm jinja2 gradio==3.50.0\n",
        "!pip install -q -U google-generativeai"
      ]
    },
    {
      "cell_type": "markdown",
      "metadata": {
        "id": "XQlAUt0pNrlf"
      },
      "source": [
        "### Import all necessary packages and set up your **Gemini API Key**.\n"
      ]
    },
    {
      "cell_type": "code",
      "execution_count": null,
      "metadata": {
        "id": "YRnMeB_rUNTh",
        "cellView": "form",
        "colab": {
          "base_uri": "https://localhost:8080/",
          "height": 34
        },
        "outputId": "65c6c46a-8533-4ef6-a84b-17c20629f431"
      },
      "outputs": [
        {
          "output_type": "stream",
          "name": "stdout",
          "text": [
            "Set Gemini API KEY sucessfully!!\n"
          ]
        }
      ],
      "source": [
        "from tqdm import tqdm\n",
        "import jinja2\n",
        "import pickle, json, os, time, re\n",
        "import traceback\n",
        "import google.generativeai as genai\n",
        "# TODO: Enter your Gemini API key\n",
        "#@title Set your Gemini API Key.\n",
        "GOOGLE_API_KEY = \"\" #@param {type:\"string\"}\n",
        "genai.configure(api_key=GOOGLE_API_KEY)\n",
        "model = genai.GenerativeModel('gemini-pro')\n",
        "\n",
        "# Check if you have set your Gemini API successfully\n",
        "# You should see \"Set Gemini API sucessfully!!\" if nothing goes wrong.\n",
        "try:\n",
        "    model.generate_content(\n",
        "      \"test\",\n",
        "    )\n",
        "    print(\"Set Gemini API KEY sucessfully!!\")\n",
        "except:\n",
        "    print(\"There seems to be something wrong with your Gemini API. Please follow our demonstration in the slide to get a correct one.\")"
      ]
    },
    {
      "cell_type": "markdown",
      "metadata": {
        "id": "RffmMGTYB4fV"
      },
      "source": [
        "### Set up Gemini API !\n",
        "\n",
        "* Here, we set up Gemini API! using the version `gemini-pro`.\n"
      ]
    },
    {
      "cell_type": "code",
      "execution_count": null,
      "metadata": {
        "id": "RI0hC7SFT3Sr"
      },
      "outputs": [],
      "source": [
        "class GeminiModel():\n",
        "    def __init__(self, cache_file=\"gemini_cache\"):\n",
        "      # Constructor to initialize the OpenAIModel object.\n",
        "      # cache_file: Name of the file used for caching data.\n",
        "      self.cache_file = cache_file\n",
        "      # Load the cache from the file.\n",
        "      self.cache_dict = self.load_cache()\n",
        "\n",
        "      ## count token\n",
        "      #tokens = my_model.model.count_tokens(\"Hello world\")\n",
        "      #token = tokens.total_token\n",
        "\n",
        "      # init model\n",
        "      safety_settings = [\n",
        "          {\n",
        "              \"category\": \"HARM_CATEGORY_DANGEROUS\",\n",
        "              \"threshold\": \"BLOCK_NONE\",\n",
        "          },\n",
        "          {\n",
        "              \"category\": \"HARM_CATEGORY_HARASSMENT\",\n",
        "              \"threshold\": \"BLOCK_NONE\",\n",
        "          },\n",
        "          {\n",
        "              \"category\": \"HARM_CATEGORY_HATE_SPEECH\",\n",
        "              \"threshold\": \"BLOCK_NONE\",\n",
        "          },\n",
        "          {\n",
        "              \"category\": \"HARM_CATEGORY_SEXUALLY_EXPLICIT\",\n",
        "              \"threshold\": \"BLOCK_NONE\",\n",
        "          },\n",
        "          {\n",
        "              \"category\": \"HARM_CATEGORY_DANGEROUS_CONTENT\",\n",
        "              \"threshold\": \"BLOCK_NONE\",\n",
        "          },\n",
        "      ]\n",
        "      self.model = genai.GenerativeModel('gemini-pro', safety_settings=safety_settings)\n",
        "      # self.model = genai.GenerativeModel('gemini-pro')\n",
        "\n",
        "    def save_cache(self):\n",
        "      # Save the current state of the cache to the cache file.\n",
        "        with open(self.cache_file, \"wb\") as f:\n",
        "            pickle.dump(self.cache_dict, f)\n",
        "\n",
        "    def load_cache(self, allow_retry=True):\n",
        "        # Load the cache from the cache file, with retry logic for handling read errors.\n",
        "        if os.path.exists(self.cache_file):\n",
        "            while True:\n",
        "                try:\n",
        "                    with open(self.cache_file, \"rb\") as f:\n",
        "                        cache = pickle.load(f)\n",
        "                    break\n",
        "                except Exception:\n",
        "                    if not allow_retry:\n",
        "                        assert False\n",
        "                    print (\"Pickle Error: Retry in 5sec...\")\n",
        "                    time.sleep(5)\n",
        "        else:\n",
        "            # Initialize the cache if the file does not exist.\n",
        "            cache = {}\n",
        "        return cache\n",
        "\n",
        "    def set_cache_file(self, file_name):\n",
        "      self.cache_file = file_name\n",
        "      # Load the cache from the file.\n",
        "      self.cache_dict = self.load_cache()\n",
        "\n",
        "    def get_completion(self, content):\n",
        "        # Get a completion for a given content, optionally using the extraction tool.\n",
        "        # Checks cache before making a new request to the model.\n",
        "        if content in self.cache_dict:\n",
        "            return self.cache_dict[content]\n",
        "        for _ in range(3):\n",
        "            try:\n",
        "              # Make a request to the Gemini model.\n",
        "\n",
        "              response = self.model.generate_content(\n",
        "                      content,\n",
        "                      generation_config=genai.types.GenerationConfig(temperature=1.0),\n",
        "                      request_options={\"timeout\": 120}\n",
        "                  )\n",
        "              # Store the completion\n",
        "              completion = response.text\n",
        "              self.cache_dict[content] = completion\n",
        "              return completion\n",
        "            except Exception as e:\n",
        "                # traceback.print_exc()\n",
        "                print(e, \"\\n\")\n",
        "                time.sleep(1)\n",
        "        return None\n",
        "\n",
        "    ## need double check\n",
        "    def is_valid_key(self):\n",
        "        for _ in range(4):\n",
        "            try:\n",
        "                # ref: https://ai.google.dev/tutorials/python_quickstart\n",
        "                response = self.model.generate_content(\n",
        "                        \"hi there\",\n",
        "                        generation_config=genai.types.GenerationConfig(temperature=1.0)\n",
        "                    )\n",
        "                return True\n",
        "            except Exception as e:\n",
        "                traceback.print_exc()\n",
        "                time.sleep(1)\n",
        "        return False\n",
        "\n",
        "    def prompt_token_num(self, prompt):\n",
        "        tokens = self.model.count_tokens(prompt)\n",
        "        token = tokens.total_tokens\n",
        "\n",
        "        ## DEBUG\n",
        "        #print(f\"The token num of \\'{prompt}\\' is {token}\")\n",
        "\n",
        "        return token\n",
        "\n",
        "    def two_stage_completion(self, question, content):\n",
        "        # A two-stage completion process: first to get the rationale and then the final answer.\n",
        "        rationale = self.get_completion(content)\n",
        "        if not rationale:\n",
        "            return {\n",
        "            'prompt': content,\n",
        "            'rationale': None,\n",
        "            'answer': None\n",
        "            }\n",
        "\n",
        "        ans = self.get_completion(content = f\"Q:{question}\\nA:{rationale}\\nThe answer to the original question is (a number only): \")\n",
        "        return {\n",
        "            'prompt': content,\n",
        "            'rationale': rationale,\n",
        "            'answer': ans\n",
        "        }\n",
        "\n",
        "my_model = GeminiModel()"
      ]
    },
    {
      "cell_type": "markdown",
      "metadata": {
        "id": "ZvU3-01m3wmy"
      },
      "source": [
        "### Questions for evaluating your prompt.\n",
        "- We provide 30 questions for evaluating your prompt: [Link](https://docs.google.com/spreadsheets/d/1IehN_Qx40wPcreVE5UorTQz-puCI8NbNDQEMvcuaZcs/edit?hl=zh-tw#gid=0)\n",
        "- Running this block is necessary to set all questions and answers. If you do not run this block, you will not be able to access the questions in subsequent blocks.  \n",
        "- **Do not modify this block !**"
      ]
    },
    {
      "cell_type": "code",
      "execution_count": null,
      "metadata": {
        "id": "YPCbjSndXJ2y"
      },
      "outputs": [],
      "source": [
        "questions = ['An artist is creating a large mosaic using square tiles. The mosaic is designed to be a square itself and to contain exactly 3 times as many blue tiles as red tiles. If the artist has only 57 red tiles, how many tiles in total will be used to construct the complete mosaic?',\n",
        " 'A farmer is filling baskets with apples for a local market. He has 120 apples and wants to distribute them evenly among his baskets. If he decides to keep 15 apples for his family and each basket can hold no more than 7 apples, what is the minimum number of baskets he needs to use for the market?',\n",
        " 'A garden has rectangular plots arranged in such a way that each plot shares sides with exactly two other plots, forming a straight line. There are 5 plots in total. Each of the middle plots has an area of 24 square meters, and the width of the plots is 4 meters. The width remains constant for all plots. The first plot in the line is twice as long as a middle plot, and the last plot is half as long as a middle plot. What is the total area of all the plots combined?',\n",
        " \"A farmer's market sells apples in two types of mixed bags: Type A contains 4 red apples and 6 green apples, and Type B contains 8 red apples and 4 green apples. A customer purchases one bag of each type. What is the probability that a randomly picked apple from the collection of apples in both bags will be a green apple? Express your answer as a decimal rounded to the nearest hundredth.\",\n",
        " 'A gardener is planting flowers in a pattern: two red flowers followed by one yellow flower. If the gardener wants to maintain this pattern and has 35 spaces in a row to fill, how many red flowers will the gardener plant?',\n",
        " 'Jason is training for a marathon and runs a certain distance each day. On Monday, he runs 5 miles. Each day after, he increases his distance by 10%. If Jason continues this pattern, how many miles will he run on Friday?',\n",
        " 'In a triangular garden bed, there are 16 plants along each side. Each plant requires a circular space with a radius of 0.5 meters to grow properly. Assuming plants are placed exactly next to each other, without overlapping, and maintaining a straight line from one corner of the triangular bed to the other, how much linear meter space is used by plants along one side of the garden bed?',\n",
        " 'Dr. Wilson is planting a geometric garden with flowers arranged in concentric rings around a central fountain. Each outer ring has 6 more flowers than the inner one, forming a hexagonal pattern. The innermost ring has 6 flowers. If Dr. Wilson plants enough flowers to form 15 rings, including the innermost ring, what is the total number of flowers needed for the garden?',\n",
        " 'A small library is reorganizing its collection. They have a total of 120 books to distribute equally among 5 shelves. The top shelf can only bear a load of books equal to half the weight supported by the bottom shelf. If the top shelf holds 15 pounds of books and the other shelves can each hold twice as much weight, how many pounds can the bottom shelf hold?',\n",
        " 'A recipe for a batch of cookies requires 3 cups of flour, 2 cups of sugar, and 1 cup of chocolate chips. If Max wants to make a triple batch but only has 4 cups of sugar, how many more cups of sugar does he need?',\n",
        " 'A pet store owner is making custom birdhouses. Each birdhouse requires 0.75 liters of wood varnish for the exterior. If the owner has a 10-liter can of wood varnish, how many birdhouses can he finish before needing more varnish?',\n",
        " 'A farm has chickens and cows. If there are a total of 30 heads and 88 legs, how many cows are on the farm?',\n",
        " \"A local library is organizing a book fair where they sell used books to raise funds for new acquisitions. They sell 120 children's books for $2 each, 75 novels for $3 each, and twice as many magazines as novels at $1.50 each. They also sell bookmarks at $0.50 each. If they sell as many bookmarks as the total number of books and magazines sold, how much money does the library raise in total?\",\n",
        " 'A local farmer is preparing mixed fruit baskets using apples, oranges, and bananas. Each basket must contain 3 apples, 5 oranges, and 2 bananas. The apples are sold at $0.50 each, oranges at $0.30 each, and bananas at $0.25 each. If the farmer prepares 120 baskets for a local market and sells each basket for $5.00, how much profit will the farmer make after selling all the baskets?',\n",
        " 'Maria has 24 apples and wants to divide them equally among her 6 friends. If each friend also gives 2 apples to their teacher, how many apples will each friend have left?',\n",
        " 'Lila is planning a garden and wants to plant three types of flowers: daisies, tulips, and roses. She wants twice as many daisies as tulips and three times as many tulips as roses. If she plants a total of 60 flowers, how many roses is she planning to plant?',\n",
        " 'A garden has three types of flowering plants. The first type has 12 flowers each, the second type has 8 flowers each, and the third type has 15 flowers each. If there are twice as many first-type plants as second-type plants and half as many third-type plants as first-type plants, and the garden has a total of 16 second-type plants, how many flowers are there in the garden?',\n",
        " \"In a certain board game, transferring from one square to another costs as many coins as the number of the square you're landing on. The first square is number 1, the second square is number 2, and so on in numerical order. If a player transfers from square 5 to square 9 in one move, then to square 14 in the next, and finally to square 20, how many coins have they spent in total?\",\n",
        " \"A landscaping company plants trees in two parks. In Park A, they plant 5 rows of trees with 6 trees in each row. Park B is smaller, so they plant 3 rows with 7 trees in each row. However, 4 trees in Park B don't survive and must be removed. How many trees are left in total after the removals?\",\n",
        " 'Dr. Euler is planning a math tournament and decides to arrange the participants in groups. Each group must have the same number of participants to ensure fairness. If Dr. Euler can choose to arrange them in groups of either 4, 5, or 6, and he knows there are fewer than 100 participants, what is the largest number of participants that he can have to ensure he has no one left over no matter how he arranges the groups?',\n",
        " 'A farmer has allocated a section of his land to grow pumpkins for the Halloween season. He plants 8 rows of pumpkin plants, with each row containing 15 pumpkin plants. Each pumpkin plant yields an average of 3 pumpkins. After harvest, the farmer sells 20% of the pumpkins to a local market and the rest at his farm stand. If each pumpkin sells for $4, how much total revenue does the farmer make from pumpkin sales?',\n",
        " 'A triangular park ABC has trees planted along its edges. The number of trees planted on edge AB is equal to the length of edge BC, the number of trees on edge BC is equal to the length of edge CA, and the number of trees on edge CA is equal to the length of edge AB. If the lengths of edges AB, BC, and CA (in meters) form a geometric progression whose common ratio is 2, and the total number of trees planted is 77, find the length of edge AB.',\n",
        " 'A group of friends are collecting cans for recycling. Maya collected twice as many cans as Liam. Liam collected 15 cans. If Zoe collected 5 more cans than Maya and the group wants to divide the total number of cans equally between 4 charities, how many cans will each charity receive?',\n",
        " \"In a science competition, each team needs to build a model rocket. There are 6 teams and each team requires 1 set of materials. A set of materials includes the body tube, the engine, and the parachute. The body tube costs $12.50 each, the engine costs $18.75 each, and the parachute costs $6.25 each. After purchasing the materials for all teams, the total cost was $225. How much did the materials for one team's rocket cost?\",\n",
        " 'Emily has a small vegetable garden where she grows tomatoes, carrots, and cucumbers. She has twice as many tomato plants as cucumber plants, and 5 fewer carrot plants than tomato plants. If Emily has 4 cucumber plants, how many vegetable plants does she have in total?',\n",
        " 'In a small village, the local tailor makes coats and trousers. He uses 3 yards of fabric for a coat and 2 yards for a pair of trousers. He has received an order for a theater production that requires twice as many trousers as coats, and the production has asked for 4 coats. If fabric costs $15 per yard, how much will the production spend on fabric for this order?',\n",
        " \"A town's population grows at a constant rate. If the town's population was 5,000 in the year 2010 and 8,000 in the year 2020, what will the town's population be in the year 2025 if the growth trend continues?\",\n",
        " 'A math teacher is organizing a quiz competition and has decided to give out pencils as prizes. Every participant will receive 2 pencils, but those who score above 80% will receive an additional 3 pencils as a bonus. If there are 30 students in the class and 1/5 of the students score above 80%, how many pencils does the teacher need to have for the competition?',\n",
        " 'A rectangular garden is enclosed by 120 meters of fencing. If the length of the garden is three times its width, what is the area of the garden in square meters?',\n",
        " 'A garden measuring 10 meters by 15 meters is to be covered by square tiles. Each tile has a side length of 25 centimeters. If the price of each tile is $3 and the cost of labor per square meter for laying the tiles is $8, what is the total cost of tiling the garden?']\n",
        "answers = [228,15,132,0.45,24,7.3205,16,720,30,2,13,14,862.5,180,2,6,752,43,47,60,1440,11,20,37.5,15,420,9500,78,675,8400]\n"
      ]
    },
    {
      "cell_type": "markdown",
      "source": [
        "## 🧙 **Create Your Custom Prompt ( Gradio Version )**\n",
        "\n",
        "---\n",
        "\n",
        "\n",
        "\n",
        "This block creates a Gradio interface, enabling you to **set, evaluate, and save your custom prompt in Gradio.**"
      ],
      "metadata": {
        "id": "MPxCecpC6adp"
      }
    },
    {
      "cell_type": "markdown",
      "metadata": {
        "id": "m4LARNE24Qil"
      },
      "source": [
        "\n",
        "\n",
        "### **Manual**\n",
        "0. **Make sure the API key is set correctly, otherwise you will get unexpected outcomes (probably errors).**\n",
        "1. **Edit Your Custom Prompt in `Prompt`:**\n",
        "   - Include `{{question}}` in your prompt without any alterations. This placeholder will be replaced with a selected example from the provided examples.\n",
        "   ![image.png](data:image/png;base64,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)\n",
        "  - Maximum length: 1024 tokens\n",
        "   \n",
        "\n",
        "   \n",
        "\n",
        "2. **Set Your Custom Prompt:**\n",
        "   - Click `Set Prompt` to apply the content in `Prompt` as your custom prompt. Use `Clear Prompt` to clear any custom prompt you've entered.\n",
        "   - After setting your prompt, you can check it in the `Log`.\n",
        "\n",
        "\n",
        "3. **Evaluate Your Custom Prompt:**\n",
        "   - Click `Evaluate` to evaluate your custom prompt with `Gemini` with the first `Number of examples used for evaluation` questions.\n",
        "   - Your prompt will be evaluated three times per question.\n",
        "   - The evaluation of all questions may take **20 to 30 minutes**, depending on the length of your prompt.\n",
        "\n",
        "4. **Check out the result:**\n",
        "    - Terminologies:\n",
        "        - `Trial Number`: Range: `1∼3`, the evaluation runs 3 trials and vote for the final result.\n",
        "        - `Question Number`: Range: `1∼n`, the first `n` questions used for the evaluation.\n",
        "        \n",
        "    - You can adjust the sliders to view the specific result.\n",
        "    - It's recommended to adjust the slider click-by-click, since the slow reacting speed of the Gradio interface. If you want to quickly navigate to a number, inputting the number in the numeric input box guarantees the desired result.\n",
        "    - The overall score is in `Result Stats`.\n",
        "\n",
        "5. **Save Your Custom Prompt:**\n",
        "   - Click `Save Custom Prompt` to save your results into a json file.\n",
        "\n",
        "6. **Review the Process in `Log`:**\n",
        "   - All operations are recorded in `Log`. Refer to it for process understanding or to replicate your experiment, though note some operations may introduce randomness.\n",
        "\n",
        "### **Note**\n",
        "- To insert a line break in the text box, use `Shift+Enter`.\n",
        "\n",
        "\n",
        "<!-- * **Note: The first and the last line change tokens will be removed!** -->"
      ]
    },
    {
      "cell_type": "code",
      "execution_count": null,
      "metadata": {
        "id": "yVwRsuNhVznD"
      },
      "outputs": [],
      "source": [
        "# Use gradio for custom prompt\n",
        "# Integrated all following steps including assessing and downloading\n",
        "import gradio as gr\n",
        "\n",
        "def reset(chatbot):\n",
        "    '''\n",
        "    `Reset` btn click handler: reset prompt\n",
        "    '''\n",
        "\n",
        "    gr.Info(\"Clear prompt\")\n",
        "\n",
        "    chatbot.extend([[\"Clear Prompt\", \"Prompt successfully reset\"]])\n",
        "    return chatbot, \"\", 0\n",
        "\n",
        "def assign(chatbot, prompt, template, Example_Number):\n",
        "    '''\n",
        "    `Assign` btn click handler: assign valid prompt and set up `template` state\n",
        "    '''\n",
        "\n",
        "    gr.Info(\"Assign prompt\")\n",
        "\n",
        "\n",
        "    #prompt = prompt.strip('\\n')\n",
        "\n",
        "    Example_Number = int(Example_Number)\n",
        "    token_num = my_model.prompt_token_num(prompt)\n",
        "    if token_num > 1024:\n",
        "        #print(\"Invalid prompt\")\n",
        "        template = None\n",
        "        gr.Warning(\"Invalid prompt (too long, >1024 tokens)\")\n",
        "        chatbot.append([None, \"The prompt is too long (> 1024 tokens). A shorter prompt provides a faster and stabler assessment!\"])\n",
        "    elif Example_Number < 1 or Example_Number > len(questions):\n",
        "        template = None\n",
        "        prompt_ex = f\"Error: Please select a number between 1 and {len(questions)}\"\n",
        "        gr.Warning(prompt_ex)\n",
        "        chatbot.extend([[None, prompt_ex]])\n",
        "    elif \"{{question}}\" not in prompt:\n",
        "        template = None\n",
        "        prompt_ex = \"You need to put a placeholder {{question}} in your prompt.\"\n",
        "        gr.Warning(prompt_ex)\n",
        "        chatbot.extend([[None, prompt_ex]])\n",
        "    else:\n",
        "        environment = jinja2.Environment()\n",
        "        template = environment.from_string(prompt)\n",
        "        prompt_ex = f\"\"\"{template.render(question=questions[Example_Number - 1])}\"\"\"\n",
        "\n",
        "        chatbot.extend([[\"Assign prompt\", \"Prompt successfully assigned\\n\\nCustom prompt demo:\"], [None, prompt_ex]])\n",
        "\n",
        "    return chatbot, prompt, template, Example_Number, token_num\n",
        "\n",
        "\n",
        "# Refining the approach to handle multiple commas in large numbers while preserving commas between floats.\n",
        "# The new strategy involves a more comprehensive pattern or possibly a different logic for processing the text.\n",
        "\n",
        "# Adjusted strategy:\n",
        "# 1. Identify all numeric sequences that might include commas and process each one individually.\n",
        "# 2. For each sequence, determine if it represents a large number (with potential thousand separators) or a float.\n",
        "# 3. Remove commas only from sequences identified as large numbers.\n",
        "\n",
        "def clean_commas(text):\n",
        "    # This function finds all numeric sequences that could include commas, decimal points, or be part of a float,\n",
        "    # and then decides whether to remove commas based on the context.\n",
        "    def process_match(match):\n",
        "        number = match.group(0)\n",
        "        # If the number is part of a float (has a decimal point), we'll return it unchanged.\n",
        "        if '.' in number:\n",
        "            return number\n",
        "        # Otherwise, remove all commas, treating them as thousand separators.\n",
        "        else:\n",
        "          number_list = number.split(\",\")\n",
        "          new_string = number_list[0]\n",
        "          for i in range(1, len(number_list)):\n",
        "            if len(number_list[i]) == 3:\n",
        "              new_string += number_list[i]\n",
        "            else:\n",
        "              new_string += f\",{number_list[i]}\"\n",
        "        return new_string\n",
        "\n",
        "    # Regex explanation:\n",
        "    # - \\d+ matches one or more digits.\n",
        "    # - (?:,\\d+)* matches zero or more groups of a comma followed by one or more digits.\n",
        "    # - (?:\\.\\d+)? optionally matches a decimal point followed by one or more digits, to catch floats.\n",
        "    pattern = r'\\d+(?:,\\d+)*(?:\\.\\d+)?'\n",
        "    return re.sub(pattern, process_match, text)\n",
        "\n",
        "\n",
        "def find_and_match_floats(input_string, ground_truth):\n",
        "  # Compile a regex pattern that matches floats and integers, including signed ones\n",
        "  pattern = re.compile(r\"[-+]?\\d*\\.\\d+|[-+]?\\d+\")\n",
        "\n",
        "  # Find all matches in the input string\n",
        "  found_numbers = pattern.findall(input_string)\n",
        "\n",
        "  # Convert found strings to floats\n",
        "  found_floats = [float(num) for num in found_numbers]\n",
        "\n",
        "  # Check if any of the found floats match the ground truth\n",
        "  return ground_truth in found_floats\n",
        "\n",
        "def assess(chatbot, template, test_num):\n",
        "    '''\n",
        "    `Test` btn click handler: test custom prompt by model (assess some examples)\n",
        "    '''\n",
        "\n",
        "    # Test if Gemini API key is valid\n",
        "    # my_model = GeminiModel()\n",
        "    # if not my_model.is_valid_key():\n",
        "    #     chatbot.extend([[None, \"Invalid API key\"]])\n",
        "    #     gr.Warning(\"Invalid API key\")\n",
        "    #     return chatbot, [], \"Invalid API key. Make sure you set up your API key properly (at the beginning of the notebook).\", gr.Slider(label=\"Result Number\", value=0, minimum=0, maximum=0, step=1), gr.Textbox(label=\"Result\", value=\"\", interactive=False)\n",
        "\n",
        "    # Make sure `template` state is valid\n",
        "    if template is None:\n",
        "        chatbot.extend([[None, \"Test failed since empty template (i.e. invalid prompt)\"]])\n",
        "        gr.Warning(\"Prompt not set\")\n",
        "        return chatbot, [], \"Prompt unset\", gr.Slider(label=\"Result Number\", value=0, minimum=0, maximum=0, step=1), gr.Textbox(label=\"Result\", value=\"\", interactive=False)\n",
        "\n",
        "    gr.Info(\"Evaluate prompt\")\n",
        "\n",
        "    # Define the template for displaying results. This includes the question, rationale, and extracted answer.\n",
        "    ans_template =\"Prompt with Question:\\n\\n{{question}}\\n\\n--------------------\\n\\nProblem-solving Process:\\n\\n{{rationale}}\\n\\n--------------------\\n\\nFinal Answer\\n\\n{{answer}}\"\n",
        "\n",
        "    res_list = []\n",
        "    total_count = test_num\n",
        "\n",
        "    # Convert the ans_template string into a template object for rendering.\n",
        "    environment = jinja2.Environment()\n",
        "    ans_template = environment.from_string(ans_template)\n",
        "\n",
        "    # Initialize counters for tracking the number of accurate responses.\n",
        "    trial_num = 3\n",
        "    trials = [[] for _ in range(trial_num)]\n",
        "    res_stats_str = \"\"\n",
        "\n",
        "    ## conduct three trials\n",
        "    for i in range(trial_num):\n",
        "\n",
        "        gr.Info(f\"Start trial {i+1}\")\n",
        "        my_model.set_cache_file(f\"gemini_cache_trial_{i+1}\")\n",
        "        accurate_count = 0\n",
        "\n",
        "        # Iterate over each example in the examples list.\n",
        "        for idx, example in enumerate(questions[:test_num]):\n",
        "            test_res = \"\"\n",
        "\n",
        "            result = my_model.two_stage_completion(example, template.render(question=example))\n",
        "\n",
        "            ## check result['answer'] not None\n",
        "            if not result[\"answer\"]:\n",
        "                trials[i].append(0)\n",
        "\n",
        "                test_res += f\"Trial {i+1}\\n\\n Skip question {idx + 1}.\"\n",
        "                test_res += \"\\n\" + \"<\"*6 + \"=\"*30 + \">\"*6 + \"\\n\\n\"\n",
        "                res_list.append(f\"Trial {i+1}\\n\\n Skip question {idx + 1}.\")\n",
        "                continue\n",
        "\n",
        "            # Compare the model's answer with the ground truth and increment accurate_count if they match.\n",
        "\n",
        "            # if str(answers[idx]) in result['answer']:\n",
        "            #     accurate_count += 1\n",
        "            #     trials[i].append(1)\n",
        "            # else:\n",
        "            #     trials[i].append(0)\n",
        "\n",
        "            cleaned_result = clean_commas(result[\"answer\"])\n",
        "            if find_and_match_floats(cleaned_result, answers[idx]) or idx in [0, 26]:\n",
        "              accurate_count += 1\n",
        "              trials[i].append(1)\n",
        "            else:\n",
        "              trials[i].append(0)\n",
        "\n",
        "            # Save the cache of the model's prompt and response.\n",
        "            my_model.save_cache()\n",
        "\n",
        "            test_res += f\"Trial {i + 1}\\n\\n\"\n",
        "            test_res += f\"Question {idx + 1}:\\n\" + '-'*20\n",
        "            test_res += f'''\\n\\n{ans_template.render(question=result['prompt'], rationale=result['rationale'], answer=result['answer'])}\\n'''\n",
        "            test_res += \"\\n\" + \"<\"*6 + \"=\"*30 + \">\"*6 + \"\\n\\n\"\n",
        "            res_list.append(test_res)\n",
        "\n",
        "            # time.sleep(1)\n",
        "\n",
        "\n",
        "        # Print the accuracy statistics.\n",
        "        res_stats_str += f\"Trial {i + 1}, accurate_count: {accurate_count}, total_count: {total_count}, accuracy: {accurate_count / total_count * 100}%\\n\"\n",
        "        # Save the cache of the model's prompt and response.\n",
        "        my_model.save_cache()\n",
        "\n",
        "    ## majority vote\n",
        "    voting_acc = 0\n",
        "    for i in range(total_count):\n",
        "      count = 0\n",
        "      for j in range(trial_num):\n",
        "        if trials[j][i] == 1:\n",
        "          count += 1\n",
        "      if count >= 2:\n",
        "        voting_acc += 1\n",
        "\n",
        "    res_stats_str += f\"Final Accuracy: {voting_acc / total_count * 100}%\"\n",
        "\n",
        "    # # Print the model's usage statistics from the cache.\n",
        "    # usage_stats_str = str(my_model.cache_dict['usage'])\n",
        "\n",
        "    chatbot.extend([[\"Test\", \"Test finished. The results can be find in \\\"Result\\\" and \\\"Result Stats\\\".\"]])\n",
        "    chatbot.extend([[None, \"Test Result\"], [None, ''.join(res_list)], [None, \"Result Stats\"], [None, res_stats_str]])\n",
        "    return chatbot, res_list, res_stats_str, gr.Slider(label=\"Result Number\", value=1, minimum=1, maximum=len(res_list), step=1, visible=False), gr.Textbox(label=\"Result\", value=res_list[0], interactive=False)\n",
        "\n",
        "def save_prompt(chatbot, prompt):\n",
        "    '''\n",
        "    `Save` btn click handler: save the prompt\n",
        "    '''\n",
        "\n",
        "    gr.Info(\"Save prompt\")\n",
        "\n",
        "    prompt_dict = {\n",
        "        'prompt': prompt\n",
        "    }\n",
        "\n",
        "    # Dump the prompt into a JSON file.\n",
        "    with open('prompt.json', 'w') as f:\n",
        "        json.dump(prompt_dict, f)\n",
        "\n",
        "    chatbot.extend([[\"Save prompt\", f\"Prompt saved as prompt.json\"]])\n",
        "    return chatbot\n",
        "\n",
        "# Reference prompt\n",
        "my_magic_prompt = \"Task:\\nSolve the following math problem.\\n\\nProblem: {{question}}\\n\\nAnswer:\"\n",
        "\n",
        "\n",
        "# Gradio UI\n",
        "with gr.Blocks() as demo:\n",
        "    my_magic_prompt = my_magic_prompt.strip('\\n')\n",
        "    template = gr.State(None)\n",
        "    res_list = gr.State(list())\n",
        "\n",
        "    # Components\n",
        "    with gr.Tab(label=\"Console\"):\n",
        "        with gr.Group():\n",
        "            example_num_box = gr.Dropdown(label=\"Demo Example (Please choose one example for demo)\", value=1, info=questions[0], choices=[i+1 for i in range(len(questions))], filterable=False)\n",
        "            prompt_textbox = gr.Textbox(label=\"Custom Prompt\", placeholder=f\"Enter your custom prompt here. For example:\\n\\n{my_magic_prompt}\", value=\"\", info=\"Make sure to include the `{{question}}` tag.\")\n",
        "            with gr.Row():\n",
        "                set_button = gr.Button(value=\"Set Prompt\")\n",
        "                reset_button = gr.Button(value=\"Clear Prompt\")\n",
        "            prompt_token_num = gr.Textbox(label=\"Number of prompt tokens\", value=0, interactive=False, info=\"The token number of the assigned custom prompt.\")\n",
        "        with gr.Group():\n",
        "            test_num = gr.Slider(label=\"Number of examples used for evaluation\", minimum=1, maximum=len(questions), step=1, value=1)\n",
        "            assess_button = gr.Button(value=\"Evaluate\")\n",
        "        with gr.Group():\n",
        "            with gr.Row():\n",
        "                with gr.Column():\n",
        "                    with gr.Row():\n",
        "                        trial_no = gr.Slider(label=\"Trial ID\", value=1, minimum=1, maximum=3, step=1)\n",
        "                        ques_no = gr.Slider(label=\"Question ID\", value=1, minimum=1, maximum=1, step=1)\n",
        "                    res_num = gr.Slider(label=\"Result Number\", value=0, minimum=0, maximum=0, step=1, visible=False)\n",
        "                    res = gr.Textbox(label=\"Result\", value=\"\", placeholder=\"No result\", interactive=False)\n",
        "                with gr.Column():\n",
        "                    res_stats = gr.Textbox(label=\"Result Stats\", interactive=False)\n",
        "            save_button = gr.Button(value=\"Save Custom Prompt\")\n",
        "    with gr.Tab(label=\"Log\"):\n",
        "        chatbot = gr.Chatbot(label=\"Log\")\n",
        "\n",
        "    # Event handlers\n",
        "    example_num_box.input(lambda Example_Number: gr.Dropdown(label=\"Example (Please choose one example for demo)\", value=Example_Number, info=questions[Example_Number - 1], choices=[i+1 for i in range(len(questions))]),\n",
        "                inputs=[example_num_box],\n",
        "                outputs=[example_num_box])\n",
        "    res_num.change(lambda results, result_num, test_num: (gr.Textbox(label=\"Result\", value=results[result_num-1], interactive=False) if len(results) != 0 else gr.Textbox(label=\"Result\", value=\"\", placeholder=\"No result\", interactive=False),\n",
        "                                    (int)((result_num-1)/test_num)+1,\n",
        "                                    gr.Slider(label=\"Question Number\", minimum=1, maximum=test_num, value=(result_num-1)%test_num+1, step=1)),\n",
        "            inputs=[res_list, res_num, test_num],\n",
        "            outputs=[res, trial_no, ques_no])\n",
        "    trial_ques_no_input = lambda t_val, q_val, test_num: (t_val - 1) * test_num + q_val\n",
        "    trial_no.input(trial_ques_no_input, inputs=[trial_no, ques_no, test_num], outputs=[res_num])\n",
        "    ques_no.input(trial_ques_no_input, inputs=[trial_no, ques_no, test_num], outputs=[res_num])\n",
        "    set_button.click(assign, inputs=[chatbot, prompt_textbox, template, example_num_box], outputs=[chatbot, prompt_textbox, template, example_num_box, prompt_token_num])\n",
        "    reset_button.click(reset, inputs=[chatbot], outputs=[chatbot, prompt_textbox, prompt_token_num])\n",
        "    assess_button.click(assess, inputs=[chatbot, template, test_num], outputs=[chatbot, res_list, res_stats, res_num, res])\n",
        "    save_button.click(save_prompt, inputs=[chatbot, prompt_textbox], outputs=[chatbot])\n",
        "\n",
        "demo.queue().launch(debug = True)\n"
      ]
    },
    {
      "cell_type": "markdown",
      "source": [
        "## 🧙 **Create Your Custom Prompt ( No-Gradio Version )**\n",
        "\n",
        "---\n",
        "\n",
        "This is the section without Gradio interface. In case the Gradio server has collapsed, you can use this section to do some basic prompt assignment and evaluation work."
      ],
      "metadata": {
        "id": "9JhhrWPq9Bn0"
      }
    },
    {
      "cell_type": "markdown",
      "source": [
        "### **Import required packages**"
      ],
      "metadata": {
        "id": "ITYZs226OPbH"
      }
    },
    {
      "cell_type": "code",
      "source": [
        "import ipywidgets as widgets\n",
        "from IPython.display import display"
      ],
      "metadata": {
        "id": "4e_8mVqyKQrT"
      },
      "execution_count": null,
      "outputs": []
    },
    {
      "cell_type": "markdown",
      "source": [
        "### **Set custom prompt**\n",
        "1. Design your custom prompt in the text box. Note that the text box size can be adjusted as you prefer.\n",
        "2. Click `Assign Prompt` to lock the input area (i.e. the text box) to prevent accidental and unnoticed change of the custom prompt.\n",
        "3. For changing the custom prompt, click the `Clear Prompt` button to unlock the input area then go to 1."
      ],
      "metadata": {
        "id": "wffxuZvA9NRe"
      }
    },
    {
      "cell_type": "code",
      "source": [
        "prompt_area = widgets.Textarea()\n",
        "prompt_area_desc = widgets.HTML(value=\"<p>Custom Prompt:</p>\")\n",
        "setprompt_btn = widgets.Button(description=\"Assign Prompt\")\n",
        "resetprompt_btn = widgets.Button(description=\"Clear Prompt\")\n",
        "display_output = widgets.Output()\n",
        "custom_prompt = \"\"\n",
        "\n",
        "def set_prompt_clk(b):\n",
        "  prompt_area.disabled = True\n",
        "  print(\"Assign prompt\")\n",
        "\n",
        "def reset_prompt_clk(b):\n",
        "  prompt_area.disabled = False\n",
        "  prompt_area.value = \"\"\n",
        "  print(\"Reset prompt\")\n",
        "\n",
        "setprompt_btn.on_click(set_prompt_clk)\n",
        "resetprompt_btn.on_click(reset_prompt_clk)\n",
        "display(prompt_area_desc, prompt_area, setprompt_btn, resetprompt_btn, display_output)"
      ],
      "metadata": {
        "id": "pxxazt5NN2WE",
        "colab": {
          "base_uri": "https://localhost:8080/",
          "referenced_widgets": [
            "708a7c305b174143969e37ef85021400",
            "e701a4523e904d56bc074e5ed0ab156e",
            "e59e41d4f4c343b885471afe877ad484",
            "f462a61562e041579f4207c20eb3b695",
            "d41c662b9bf14b739d9ced7a459511fd",
            "412238c2dc0945028d0fd62ff9855b53",
            "290a8ac8b2714baf826b37689f3ecc83",
            "eb9c5a414ca045b19b1bce695afad7f8",
            "1d83e2d2a36a4b499b81cbb82cc3ae15",
            "3c0310e752a24df98e9325cae4a055a1",
            "f86a62fac877471bbd4f7743e1c510ea",
            "8b78eaa4c0154c4cbb08f6ec2b16a562",
            "a839c44710844b319fcb7daab2968722",
            "8f3aaaa9ed524cbaa91a74b619745d43"
          ]
        },
        "outputId": "d4110572-7e3d-4499-fae3-3ea60d02f90e"
      },
      "execution_count": null,
      "outputs": [
        {
          "output_type": "display_data",
          "data": {
            "text/plain": [
              "HTML(value='<p>Custom Prompt:</p>')"
            ],
            "application/vnd.jupyter.widget-view+json": {
              "version_major": 2,
              "version_minor": 0,
              "model_id": "708a7c305b174143969e37ef85021400"
            }
          },
          "metadata": {}
        },
        {
          "output_type": "display_data",
          "data": {
            "text/plain": [
              "Textarea(value='')"
            ],
            "application/vnd.jupyter.widget-view+json": {
              "version_major": 2,
              "version_minor": 0,
              "model_id": "f462a61562e041579f4207c20eb3b695"
            }
          },
          "metadata": {}
        },
        {
          "output_type": "display_data",
          "data": {
            "text/plain": [
              "Button(description='Set Prompt', style=ButtonStyle())"
            ],
            "application/vnd.jupyter.widget-view+json": {
              "version_major": 2,
              "version_minor": 0,
              "model_id": "290a8ac8b2714baf826b37689f3ecc83"
            }
          },
          "metadata": {}
        },
        {
          "output_type": "display_data",
          "data": {
            "text/plain": [
              "Button(description='Clear Prompt', style=ButtonStyle())"
            ],
            "application/vnd.jupyter.widget-view+json": {
              "version_major": 2,
              "version_minor": 0,
              "model_id": "3c0310e752a24df98e9325cae4a055a1"
            }
          },
          "metadata": {}
        },
        {
          "output_type": "display_data",
          "data": {
            "text/plain": [
              "Output()"
            ],
            "application/vnd.jupyter.widget-view+json": {
              "version_major": 2,
              "version_minor": 0,
              "model_id": "a839c44710844b319fcb7daab2968722"
            }
          },
          "metadata": {}
        },
        {
          "output_type": "stream",
          "name": "stdout",
          "text": [
            "Assign prompt\n"
          ]
        }
      ]
    },
    {
      "cell_type": "markdown",
      "source": [
        "4. Execute the cell to save the custom prompt above and to show a demo."
      ],
      "metadata": {
        "id": "4KWrskng3gxt"
      }
    },
    {
      "cell_type": "code",
      "source": [
        "custom_prompt = prompt_area.value\n",
        "assert \"{{question}}\" in custom_prompt\n",
        "\n",
        "#custom_prompt = \"Task: {{question}}\" # @param {type:\"raw\"}\n",
        "Demo_Example = \"7\" # @param [1,2,3,4,5,6,7,8,9,10,11,12,13,14,15,16,17,18,19,20,21,22,23,24,25,26,27,28,29,30] {type:\"string\"}\n",
        "demo_index = eval(Demo_Example)\n",
        "\n",
        "\n",
        "environment = jinja2.Environment()\n",
        "template = environment.from_string(custom_prompt)\n",
        "print(f\"Custom prompt demo:\\n\\n{template.render(question=questions[demo_index-1])}\")"
      ],
      "metadata": {
        "id": "--rhdUgw9EHT",
        "colab": {
          "base_uri": "https://localhost:8080/"
        },
        "outputId": "61dd875a-97be-4cb0-cab5-1e97643360e9",
        "cellView": "form"
      },
      "execution_count": null,
      "outputs": [
        {
          "output_type": "stream",
          "name": "stdout",
          "text": [
            "Custom prompt demo:\n",
            "\n",
            "In a triangular garden bed, there are 16 plants along each side. Each plant requires a circular space with a radius of 0.5 meters to grow properly. Assuming plants are placed exactly next to each other, without overlapping, and maintaining a straight line from one corner of the triangular bed to the other, how much linear meter space is used by plants along one side of the garden bed?\n"
          ]
        }
      ]
    },
    {
      "cell_type": "markdown",
      "source": [
        "### **Evaluation**\n",
        "1. Select a `eval_num` which determines the number of examples to evaluate.\n",
        "2. Execute the cell and wait for a noticeably long time depending on `eval_num` (up to 30 mins)."
      ],
      "metadata": {
        "id": "dk-L0dvg9Q-y"
      }
    },
    {
      "cell_type": "code",
      "source": [
        "eval_num = 9 # @param {type:\"slider\", min:1, max:30, step:1}\n",
        "assert 1 <= eval_num <= 30\n",
        "\n",
        "# Define the template for displaying results. This includes the question, rationale, and extracted answer.\n",
        "ans_template =\"Prompt with Question:\\n\\n{{question}}\\n\\n--------------------\\n\\nProblem-solving Process:\\n\\n{{rationale}}\\n\\n--------------------\\n\\nFinal Answer\\n\\n{{answer}}\"\n",
        "\n",
        "res_list = []\n",
        "test_num = eval_num\n",
        "total_count = test_num\n",
        "\n",
        "# Convert the ans_template string into a template object for rendering.\n",
        "environment = jinja2.Environment()\n",
        "ans_template = environment.from_string(ans_template)\n",
        "\n",
        "# Initialize counters for tracking the number of accurate responses.\n",
        "trial_num = 3\n",
        "trials = [[] for _ in range(trial_num)]\n",
        "res_stats_str = \"\"\n",
        "\n",
        "## conduct three trials\n",
        "\n",
        "\n",
        "def clean_commas(text):\n",
        "    # This function finds all numeric sequences that could include commas, decimal points, or be part of a float,\n",
        "    # and then decides whether to remove commas based on the context.\n",
        "    def process_match(match):\n",
        "        number = match.group(0)\n",
        "        # If the number is part of a float (has a decimal point), we'll return it unchanged.\n",
        "        if '.' in number:\n",
        "            return number\n",
        "        # Otherwise, remove all commas, treating them as thousand separators.\n",
        "        else:\n",
        "          number_list = number.split(\",\")\n",
        "          new_string = number_list[0]\n",
        "          for i in range(1, len(number_list)):\n",
        "            if len(number_list[i]) == 3:\n",
        "              new_string += number_list[i]\n",
        "            else:\n",
        "              new_string += f\",{number_list[i]}\"\n",
        "        return new_string\n",
        "\n",
        "    # Regex explanation:\n",
        "    # - \\d+ matches one or more digits.\n",
        "    # - (?:,\\d+)* matches zero or more groups of a comma followed by one or more digits.\n",
        "    # - (?:\\.\\d+)? optionally matches a decimal point followed by one or more digits, to catch floats.\n",
        "    pattern = r'\\d+(?:,\\d+)*(?:\\.\\d+)?'\n",
        "    return re.sub(pattern, process_match, text)\n",
        "\n",
        "\n",
        "def find_and_match_floats(input_string, ground_truth):\n",
        "    # Compile a regex pattern that matches floats and integers, including signed ones\n",
        "    pattern = re.compile(r\"[-+]?\\d*\\.\\d+|[-+]?\\d+\")\n",
        "\n",
        "    # Find all matches in the input string\n",
        "    found_numbers = pattern.findall(input_string)\n",
        "\n",
        "    # Convert found strings to floats\n",
        "    found_floats = [float(num) for num in found_numbers]\n",
        "\n",
        "    # Check if any of the found floats match the ground truth\n",
        "    return ground_truth in found_floats\n",
        "\n",
        "for i in range(trial_num):\n",
        "\n",
        "    print(f\"Start trial {i+1}\")\n",
        "    # res_list.append(f\"Start trial {i+1}\")\n",
        "    # my_model = GeminiModel(cache_file=f\"gemini_cache_trial_{i+1}\")\n",
        "    # my_model.cache_file = f\"gemini_cache_trial_{i+1}\"\n",
        "    # my_model.load_cache()\n",
        "    my_model.set_cache_file(f\"gemini_cache_trial_{i+1}\")\n",
        "    accurate_count = 0\n",
        "\n",
        "    # Iterate over each example in the examples list.\n",
        "    for idx, example in enumerate(questions[:test_num]):\n",
        "        test_res = \"\"\n",
        "\n",
        "        result = my_model.two_stage_completion(example, template.render(question=example))\n",
        "\n",
        "        ## check result['answer'] not None\n",
        "        if not result[\"answer\"]:\n",
        "            trials[i].append(0)\n",
        "\n",
        "            test_res += f\"Trial {i+1}\\n\\n Skip question {idx + 1}.\"\n",
        "            test_res += \"\\n\" + \"<\"*6 + \"=\"*30 + \">\"*6 + \"\\n\\n\"\n",
        "            res_list.append(f\"Trial {i+1}\\n\\n Skip question {idx + 1}.\")\n",
        "            continue\n",
        "\n",
        "        # Compare the model's answer with the ground truth and increment accurate_count if they match.\n",
        "\n",
        "        cleaned_result = clean_commas(result[\"answer\"])\n",
        "        if find_and_match_floats(cleaned_result, answers[idx]) or idx in [0, 26]:\n",
        "          accurate_count += 1\n",
        "          trials[i].append(1)\n",
        "        else:\n",
        "          trials[i].append(0)\n",
        "\n",
        "        # Save the cache of the model's prompt and response.\n",
        "        my_model.save_cache()\n",
        "\n",
        "        test_res += f\"Trial {i + 1}\\n\\n\"\n",
        "        test_res += f\"Question {idx + 1}:\\n\" + '-'*20\n",
        "        test_res += f'''\\n\\n{ans_template.render(question=result['prompt'], rationale=result['rationale'], answer=result['answer'])}\\n'''\n",
        "        test_res += \"\\n\" + \"<\"*6 + \"=\"*30 + \">\"*6 + \"\\n\\n\"\n",
        "        res_list.append(test_res)\n",
        "\n",
        "        time.sleep(1)\n",
        "\n",
        "\n",
        "    # Print the accuracy statistics.\n",
        "    res_stats_str += f\"Trial {i + 1}, accurate_count: {accurate_count}, total_count: {total_count}, accuracy: {accurate_count / total_count * 100}%\\n\"\n",
        "    # Save the cache of the model's prompt and response.\n",
        "    my_model.save_cache()\n",
        "\n",
        "## majority vote\n",
        "voting_acc = 0\n",
        "for i in range(total_count):\n",
        "    count = 0\n",
        "    for j in range(trial_num):\n",
        "        if trials[j][i] == 1:\n",
        "            count += 1\n",
        "    if count >= 2:\n",
        "        voting_acc += 1\n",
        "\n",
        "res_stats_str += f\"Final Accuracy: {voting_acc / total_count * 100}%\"\n",
        "\n",
        "\n",
        "print(f\"Final accuracy: {res_stats_str}\")"
      ],
      "metadata": {
        "id": "LlloSPmJ9TXP"
      },
      "execution_count": null,
      "outputs": []
    },
    {
      "cell_type": "markdown",
      "source": [
        "### **Print a specific evaluated question**\n",
        "1. Choose the `trial_id` and `question_id` that you want to print.\n",
        "2. Execute the cell."
      ],
      "metadata": {
        "id": "vOaArBhZ9WuK"
      }
    },
    {
      "cell_type": "code",
      "source": [
        "trial_id = 3 # @param {type:\"integer\"}\n",
        "question_id = 1 # @param {type:\"integer\"}\n",
        "\n",
        "if trial_id not in [1,2,3]:\n",
        "  print(\"trial_id can only be 1, 2 or 3.\")\n",
        "elif question_id not in [i for i in range(1, eval_num + 1)]:\n",
        "  print(f\"question_id can only be 1 to {eval_num}\")\n",
        "else:\n",
        "  print(f\"The evaluation result of question {question_id} in the No.{trial_id} trial is:\\n{res_list[(trial_id-1) * eval_num + question_id - 1]}\")\n",
        "\n",
        "\n"
      ],
      "metadata": {
        "id": "iAMhbGE29Zqt",
        "cellView": "form"
      },
      "execution_count": null,
      "outputs": []
    },
    {
      "cell_type": "markdown",
      "source": [
        "### **Save Prompt**  \n",
        "Execute the cell to save the prompt as json file in Colab."
      ],
      "metadata": {
        "id": "xFcOn7hG9cP8"
      }
    },
    {
      "cell_type": "code",
      "source": [
        "prompt_dict = {\n",
        "    'prompt': custom_prompt\n",
        "}\n",
        "\n",
        "# Dump the prompt into a JSON file.\n",
        "with open('prompt.json', 'w') as f:\n",
        "    json.dump(prompt_dict, f)\n",
        "\n",
        "print(\"Prompt saved as prompt.json\")"
      ],
      "metadata": {
        "id": "7-mgZtx39elI"
      },
      "execution_count": null,
      "outputs": []
    },
    {
      "cell_type": "markdown",
      "metadata": {
        "id": "sBDOEQWyhu9d"
      },
      "source": [
        "## ⬇ Download your prompt\n",
        "- Be sure you have saved your prompt !!\n",
        "- This block will automatically download the file named `prompt.json`, containing the **last prompt** you have saved.\n",
        "\n",
        "### Note\n",
        "- If you want to use this block to download your prompt, make sure you have stopped the Gradio."
      ]
    },
    {
      "cell_type": "code",
      "execution_count": null,
      "metadata": {
        "id": "SX38PXnbi9MT",
        "colab": {
          "base_uri": "https://localhost:8080/",
          "height": 35
        },
        "outputId": "d5442a3e-3127-4c81-bd71-ebc396dc3fbd"
      },
      "outputs": [
        {
          "output_type": "display_data",
          "data": {
            "text/plain": [
              "<IPython.core.display.Javascript object>"
            ],
            "application/javascript": [
              "\n",
              "    async function download(id, filename, size) {\n",
              "      if (!google.colab.kernel.accessAllowed) {\n",
              "        return;\n",
              "      }\n",
              "      const div = document.createElement('div');\n",
              "      const label = document.createElement('label');\n",
              "      label.textContent = `Downloading \"${filename}\": `;\n",
              "      div.appendChild(label);\n",
              "      const progress = document.createElement('progress');\n",
              "      progress.max = size;\n",
              "      div.appendChild(progress);\n",
              "      document.body.appendChild(div);\n",
              "\n",
              "      const buffers = [];\n",
              "      let downloaded = 0;\n",
              "\n",
              "      const channel = await google.colab.kernel.comms.open(id);\n",
              "      // Send a message to notify the kernel that we're ready.\n",
              "      channel.send({})\n",
              "\n",
              "      for await (const message of channel.messages) {\n",
              "        // Send a message to notify the kernel that we're ready.\n",
              "        channel.send({})\n",
              "        if (message.buffers) {\n",
              "          for (const buffer of message.buffers) {\n",
              "            buffers.push(buffer);\n",
              "            downloaded += buffer.byteLength;\n",
              "            progress.value = downloaded;\n",
              "          }\n",
              "        }\n",
              "      }\n",
              "      const blob = new Blob(buffers, {type: 'application/binary'});\n",
              "      const a = document.createElement('a');\n",
              "      a.href = window.URL.createObjectURL(blob);\n",
              "      a.download = filename;\n",
              "      div.appendChild(a);\n",
              "      a.click();\n",
              "      div.remove();\n",
              "    }\n",
              "  "
            ]
          },
          "metadata": {}
        },
        {
          "output_type": "display_data",
          "data": {
            "text/plain": [
              "<IPython.core.display.Javascript object>"
            ],
            "application/javascript": [
              "download(\"download_f7eb25c9-807e-46b5-8f7e-78cca7d7075e\", \"prompt.json\", 34)"
            ]
          },
          "metadata": {}
        },
        {
          "output_type": "stream",
          "name": "stdout",
          "text": [
            "Download prompt.json\n"
          ]
        }
      ],
      "source": [
        "# Download the json file.\n",
        "from google.colab import files\n",
        "files.download(f'prompt.json')\n",
        "print(f\"Download prompt.json\")"
      ]
    }
  ],
  "metadata": {
    "colab": {
      "collapsed_sections": [
        "BhP-NEinCSDh",
        "ZvU3-01m3wmy",
        "MPxCecpC6adp",
        "ITYZs226OPbH",
        "dk-L0dvg9Q-y",
        "vOaArBhZ9WuK",
        "xFcOn7hG9cP8",
        "sBDOEQWyhu9d"
      ],
      "provenance": [],
      "include_colab_link": true
    },
    "kernelspec": {
      "display_name": "Python 3",
      "name": "python3"
    },
    "language_info": {
      "name": "python"
    },
    "widgets": {
      "application/vnd.jupyter.widget-state+json": {
        "708a7c305b174143969e37ef85021400": {
          "model_module": "@jupyter-widgets/controls",
          "model_name": "HTMLModel",
          "model_module_version": "1.5.0",
          "state": {
            "_dom_classes": [],
            "_model_module": "@jupyter-widgets/controls",
            "_model_module_version": "1.5.0",
            "_model_name": "HTMLModel",
            "_view_count": null,
            "_view_module": "@jupyter-widgets/controls",
            "_view_module_version": "1.5.0",
            "_view_name": "HTMLView",
            "description": "",
            "description_tooltip": null,
            "layout": "IPY_MODEL_e701a4523e904d56bc074e5ed0ab156e",
            "placeholder": "​",
            "style": "IPY_MODEL_e59e41d4f4c343b885471afe877ad484",
            "value": "<p>Custom Prompt:</p>"
          }
        },
        "e701a4523e904d56bc074e5ed0ab156e": {
          "model_module": "@jupyter-widgets/base",
          "model_name": "LayoutModel",
          "model_module_version": "1.2.0",
          "state": {
            "_model_module": "@jupyter-widgets/base",
            "_model_module_version": "1.2.0",
            "_model_name": "LayoutModel",
            "_view_count": null,
            "_view_module": "@jupyter-widgets/base",
            "_view_module_version": "1.2.0",
            "_view_name": "LayoutView",
            "align_content": null,
            "align_items": null,
            "align_self": null,
            "border": null,
            "bottom": null,
            "display": null,
            "flex": null,
            "flex_flow": null,
            "grid_area": null,
            "grid_auto_columns": null,
            "grid_auto_flow": null,
            "grid_auto_rows": null,
            "grid_column": null,
            "grid_gap": null,
            "grid_row": null,
            "grid_template_areas": null,
            "grid_template_columns": null,
            "grid_template_rows": null,
            "height": null,
            "justify_content": null,
            "justify_items": null,
            "left": null,
            "margin": null,
            "max_height": null,
            "max_width": null,
            "min_height": null,
            "min_width": null,
            "object_fit": null,
            "object_position": null,
            "order": null,
            "overflow": null,
            "overflow_x": null,
            "overflow_y": null,
            "padding": null,
            "right": null,
            "top": null,
            "visibility": null,
            "width": null
          }
        },
        "e59e41d4f4c343b885471afe877ad484": {
          "model_module": "@jupyter-widgets/controls",
          "model_name": "DescriptionStyleModel",
          "model_module_version": "1.5.0",
          "state": {
            "_model_module": "@jupyter-widgets/controls",
            "_model_module_version": "1.5.0",
            "_model_name": "DescriptionStyleModel",
            "_view_count": null,
            "_view_module": "@jupyter-widgets/base",
            "_view_module_version": "1.2.0",
            "_view_name": "StyleView",
            "description_width": ""
          }
        },
        "f462a61562e041579f4207c20eb3b695": {
          "model_module": "@jupyter-widgets/controls",
          "model_name": "TextareaModel",
          "model_module_version": "1.5.0",
          "state": {
            "_dom_classes": [],
            "_model_module": "@jupyter-widgets/controls",
            "_model_module_version": "1.5.0",
            "_model_name": "TextareaModel",
            "_view_count": null,
            "_view_module": "@jupyter-widgets/controls",
            "_view_module_version": "1.5.0",
            "_view_name": "TextareaView",
            "continuous_update": true,
            "description": "",
            "description_tooltip": null,
            "disabled": true,
            "layout": "IPY_MODEL_d41c662b9bf14b739d9ced7a459511fd",
            "placeholder": "​",
            "rows": null,
            "style": "IPY_MODEL_412238c2dc0945028d0fd62ff9855b53",
            "value": "{{question}}"
          }
        },
        "d41c662b9bf14b739d9ced7a459511fd": {
          "model_module": "@jupyter-widgets/base",
          "model_name": "LayoutModel",
          "model_module_version": "1.2.0",
          "state": {
            "_model_module": "@jupyter-widgets/base",
            "_model_module_version": "1.2.0",
            "_model_name": "LayoutModel",
            "_view_count": null,
            "_view_module": "@jupyter-widgets/base",
            "_view_module_version": "1.2.0",
            "_view_name": "LayoutView",
            "align_content": null,
            "align_items": null,
            "align_self": null,
            "border": null,
            "bottom": null,
            "display": null,
            "flex": null,
            "flex_flow": null,
            "grid_area": null,
            "grid_auto_columns": null,
            "grid_auto_flow": null,
            "grid_auto_rows": null,
            "grid_column": null,
            "grid_gap": null,
            "grid_row": null,
            "grid_template_areas": null,
            "grid_template_columns": null,
            "grid_template_rows": null,
            "height": null,
            "justify_content": null,
            "justify_items": null,
            "left": null,
            "margin": null,
            "max_height": null,
            "max_width": null,
            "min_height": null,
            "min_width": null,
            "object_fit": null,
            "object_position": null,
            "order": null,
            "overflow": null,
            "overflow_x": null,
            "overflow_y": null,
            "padding": null,
            "right": null,
            "top": null,
            "visibility": null,
            "width": null
          }
        },
        "412238c2dc0945028d0fd62ff9855b53": {
          "model_module": "@jupyter-widgets/controls",
          "model_name": "DescriptionStyleModel",
          "model_module_version": "1.5.0",
          "state": {
            "_model_module": "@jupyter-widgets/controls",
            "_model_module_version": "1.5.0",
            "_model_name": "DescriptionStyleModel",
            "_view_count": null,
            "_view_module": "@jupyter-widgets/base",
            "_view_module_version": "1.2.0",
            "_view_name": "StyleView",
            "description_width": ""
          }
        },
        "290a8ac8b2714baf826b37689f3ecc83": {
          "model_module": "@jupyter-widgets/controls",
          "model_name": "ButtonModel",
          "model_module_version": "1.5.0",
          "state": {
            "_dom_classes": [],
            "_model_module": "@jupyter-widgets/controls",
            "_model_module_version": "1.5.0",
            "_model_name": "ButtonModel",
            "_view_count": null,
            "_view_module": "@jupyter-widgets/controls",
            "_view_module_version": "1.5.0",
            "_view_name": "ButtonView",
            "button_style": "",
            "description": "Set Prompt",
            "disabled": false,
            "icon": "",
            "layout": "IPY_MODEL_eb9c5a414ca045b19b1bce695afad7f8",
            "style": "IPY_MODEL_1d83e2d2a36a4b499b81cbb82cc3ae15",
            "tooltip": ""
          }
        },
        "eb9c5a414ca045b19b1bce695afad7f8": {
          "model_module": "@jupyter-widgets/base",
          "model_name": "LayoutModel",
          "model_module_version": "1.2.0",
          "state": {
            "_model_module": "@jupyter-widgets/base",
            "_model_module_version": "1.2.0",
            "_model_name": "LayoutModel",
            "_view_count": null,
            "_view_module": "@jupyter-widgets/base",
            "_view_module_version": "1.2.0",
            "_view_name": "LayoutView",
            "align_content": null,
            "align_items": null,
            "align_self": null,
            "border": null,
            "bottom": null,
            "display": null,
            "flex": null,
            "flex_flow": null,
            "grid_area": null,
            "grid_auto_columns": null,
            "grid_auto_flow": null,
            "grid_auto_rows": null,
            "grid_column": null,
            "grid_gap": null,
            "grid_row": null,
            "grid_template_areas": null,
            "grid_template_columns": null,
            "grid_template_rows": null,
            "height": null,
            "justify_content": null,
            "justify_items": null,
            "left": null,
            "margin": null,
            "max_height": null,
            "max_width": null,
            "min_height": null,
            "min_width": null,
            "object_fit": null,
            "object_position": null,
            "order": null,
            "overflow": null,
            "overflow_x": null,
            "overflow_y": null,
            "padding": null,
            "right": null,
            "top": null,
            "visibility": null,
            "width": null
          }
        },
        "1d83e2d2a36a4b499b81cbb82cc3ae15": {
          "model_module": "@jupyter-widgets/controls",
          "model_name": "ButtonStyleModel",
          "model_module_version": "1.5.0",
          "state": {
            "_model_module": "@jupyter-widgets/controls",
            "_model_module_version": "1.5.0",
            "_model_name": "ButtonStyleModel",
            "_view_count": null,
            "_view_module": "@jupyter-widgets/base",
            "_view_module_version": "1.2.0",
            "_view_name": "StyleView",
            "button_color": null,
            "font_weight": ""
          }
        },
        "3c0310e752a24df98e9325cae4a055a1": {
          "model_module": "@jupyter-widgets/controls",
          "model_name": "ButtonModel",
          "model_module_version": "1.5.0",
          "state": {
            "_dom_classes": [],
            "_model_module": "@jupyter-widgets/controls",
            "_model_module_version": "1.5.0",
            "_model_name": "ButtonModel",
            "_view_count": null,
            "_view_module": "@jupyter-widgets/controls",
            "_view_module_version": "1.5.0",
            "_view_name": "ButtonView",
            "button_style": "",
            "description": "Clear Prompt",
            "disabled": false,
            "icon": "",
            "layout": "IPY_MODEL_f86a62fac877471bbd4f7743e1c510ea",
            "style": "IPY_MODEL_8b78eaa4c0154c4cbb08f6ec2b16a562",
            "tooltip": ""
          }
        },
        "f86a62fac877471bbd4f7743e1c510ea": {
          "model_module": "@jupyter-widgets/base",
          "model_name": "LayoutModel",
          "model_module_version": "1.2.0",
          "state": {
            "_model_module": "@jupyter-widgets/base",
            "_model_module_version": "1.2.0",
            "_model_name": "LayoutModel",
            "_view_count": null,
            "_view_module": "@jupyter-widgets/base",
            "_view_module_version": "1.2.0",
            "_view_name": "LayoutView",
            "align_content": null,
            "align_items": null,
            "align_self": null,
            "border": null,
            "bottom": null,
            "display": null,
            "flex": null,
            "flex_flow": null,
            "grid_area": null,
            "grid_auto_columns": null,
            "grid_auto_flow": null,
            "grid_auto_rows": null,
            "grid_column": null,
            "grid_gap": null,
            "grid_row": null,
            "grid_template_areas": null,
            "grid_template_columns": null,
            "grid_template_rows": null,
            "height": null,
            "justify_content": null,
            "justify_items": null,
            "left": null,
            "margin": null,
            "max_height": null,
            "max_width": null,
            "min_height": null,
            "min_width": null,
            "object_fit": null,
            "object_position": null,
            "order": null,
            "overflow": null,
            "overflow_x": null,
            "overflow_y": null,
            "padding": null,
            "right": null,
            "top": null,
            "visibility": null,
            "width": null
          }
        },
        "8b78eaa4c0154c4cbb08f6ec2b16a562": {
          "model_module": "@jupyter-widgets/controls",
          "model_name": "ButtonStyleModel",
          "model_module_version": "1.5.0",
          "state": {
            "_model_module": "@jupyter-widgets/controls",
            "_model_module_version": "1.5.0",
            "_model_name": "ButtonStyleModel",
            "_view_count": null,
            "_view_module": "@jupyter-widgets/base",
            "_view_module_version": "1.2.0",
            "_view_name": "StyleView",
            "button_color": null,
            "font_weight": ""
          }
        },
        "a839c44710844b319fcb7daab2968722": {
          "model_module": "@jupyter-widgets/output",
          "model_name": "OutputModel",
          "model_module_version": "1.0.0",
          "state": {
            "_dom_classes": [],
            "_model_module": "@jupyter-widgets/output",
            "_model_module_version": "1.0.0",
            "_model_name": "OutputModel",
            "_view_count": null,
            "_view_module": "@jupyter-widgets/output",
            "_view_module_version": "1.0.0",
            "_view_name": "OutputView",
            "layout": "IPY_MODEL_8f3aaaa9ed524cbaa91a74b619745d43",
            "msg_id": "",
            "outputs": []
          }
        },
        "8f3aaaa9ed524cbaa91a74b619745d43": {
          "model_module": "@jupyter-widgets/base",
          "model_name": "LayoutModel",
          "model_module_version": "1.2.0",
          "state": {
            "_model_module": "@jupyter-widgets/base",
            "_model_module_version": "1.2.0",
            "_model_name": "LayoutModel",
            "_view_count": null,
            "_view_module": "@jupyter-widgets/base",
            "_view_module_version": "1.2.0",
            "_view_name": "LayoutView",
            "align_content": null,
            "align_items": null,
            "align_self": null,
            "border": null,
            "bottom": null,
            "display": null,
            "flex": null,
            "flex_flow": null,
            "grid_area": null,
            "grid_auto_columns": null,
            "grid_auto_flow": null,
            "grid_auto_rows": null,
            "grid_column": null,
            "grid_gap": null,
            "grid_row": null,
            "grid_template_areas": null,
            "grid_template_columns": null,
            "grid_template_rows": null,
            "height": null,
            "justify_content": null,
            "justify_items": null,
            "left": null,
            "margin": null,
            "max_height": null,
            "max_width": null,
            "min_height": null,
            "min_width": null,
            "object_fit": null,
            "object_position": null,
            "order": null,
            "overflow": null,
            "overflow_x": null,
            "overflow_y": null,
            "padding": null,
            "right": null,
            "top": null,
            "visibility": null,
            "width": null
          }
        }
      }
    }
  },
  "nbformat": 4,
  "nbformat_minor": 0
}